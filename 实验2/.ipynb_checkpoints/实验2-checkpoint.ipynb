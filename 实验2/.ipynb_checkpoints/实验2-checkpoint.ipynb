{
 "cells": [
  {
   "cell_type": "code",
   "execution_count": 23,
   "metadata": {},
   "outputs": [
    {
     "name": "stdout",
     "output_type": "stream",
     "text": [
      "Files already downloaded and verified\n"
     ]
    },
    {
     "name": "stderr",
     "output_type": "stream",
     "text": [
      "Clipping input data to the valid range for imshow with RGB data ([0..1] for floats or [0..255] for integers).\n"
     ]
    },
    {
     "name": "stdout",
     "output_type": "stream",
     "text": [
      "tensor([6])    class name:  frog\n",
      "the shape of the image is:  torch.Size([3, 32, 32])\n"
     ]
    },
    {
     "data": {
      "image/png": "[encoded data removed]",
      "text/plain": [
       "<Figure size 432x288 with 1 Axes>"
      ]
     },
     "metadata": {
      "needs_background": "light"
     },
     "output_type": "display_data"
    },
    {
     "name": "stderr",
     "output_type": "stream",
     "text": [
      "Clipping input data to the valid range for imshow with RGB data ([0..1] for floats or [0..255] for integers).\n"
     ]
    },
    {
     "name": "stdout",
     "output_type": "stream",
     "text": [
      "tensor([9])    class name:  truck\n",
      "the shape of the image is:  torch.Size([3, 32, 32])\n"
     ]
    },
    {
     "data": {
      "image/png": "[encoded data removed]",
      "text/plain": [
       "<Figure size 432x288 with 1 Axes>"
      ]
     },
     "metadata": {
      "needs_background": "light"
     },
     "output_type": "display_data"
    },
    {
     "name": "stderr",
     "output_type": "stream",
     "text": [
      "Clipping input data to the valid range for imshow with RGB data ([0..1] for floats or [0..255] for integers).\n"
     ]
    },
    {
     "name": "stdout",
     "output_type": "stream",
     "text": [
      "tensor([9])    class name:  truck\n",
      "the shape of the image is:  torch.Size([3, 32, 32])\n"
     ]
    },
    {
     "data": {
      "image/png": "[encoded data removed]",
      "text/plain": [
       "<Figure size 432x288 with 1 Axes>"
      ]
     },
     "metadata": {
      "needs_background": "light"
     },
     "output_type": "display_data"
    }
   ],
   "source": [
    "import torchvision\n",
    "import torchvision.transforms as transforms\n",
    "import numpy as np\n",
    "import matplotlib.pyplot as plt\n",
    "\n",
    "categories = ['airplane', 'automobile', 'bird', 'cat', 'deer', 'dog', 'frog', 'horse', 'ship', 'truck']\n",
    "\n",
    "transform = transforms.Compose([\n",
    "    transforms.ToTensor(),\n",
    "    transforms.Normalize((0.5, 0.5, 0.5), (0.5, 0.5, 0.5))\n",
    "])\n",
    "\n",
    "train_data = torchvision.datasets.CIFAR10(root='data/CIFAR10', train=True,\n",
    "                                          download=True, transform=transform)\n",
    "train_loader = torch.utils.data.DataLoader(train_data, batch_size=1)\n",
    "\n",
    "cnt = 0\n",
    "for image, label in train_loader:\n",
    "    if cnt>=3:\n",
    "        break\n",
    "    print(label, '   class name: ', categories[label.item()])\n",
    "    print('the shape of the image is: ', image[0].shape)\n",
    "    \n",
    "    img = image[0] # plt.imshow()只能接受3-D Tensor，所以也要用image[0]消去batch那一维\n",
    "    img = img.numpy() # FloatTensor转为ndarray\n",
    "    img = np.transpose(img, (1,2,0)) # 把channel那一维放到最后\n",
    "    plt.imshow(img)\n",
    "    plt.show()\n",
    "    cnt += 1\n",
    "    "
   ]
  },
  {
   "cell_type": "code",
   "execution_count": 30,
   "metadata": {},
   "outputs": [
    {
     "name": "stdout",
     "output_type": "stream",
     "text": [
      "Files already downloaded and verified\n",
      "the shape of the input of convolution layer is:  torch.Size([10, 3, 32, 32])\n",
      "the shape of the output of the convolution layer is:  torch.Size([10, 6, 28, 28])\n",
      "\n",
      "\n",
      "\n",
      "the shape of the input of the pooling layer is:  torch.Size([10, 6, 28, 28])\n",
      "the shape of the output of the convolution layer is:  torch.Size([10, 6, 14, 14])\n",
      "the shape of reshape image is: torch.Size([10, 1176])\n",
      "\n",
      "\n",
      "\n",
      "the shape of the input of the fully-connected layer is:  torch.Size([10, 1176])\n",
      "the shape of the output of the fully-connected layer is:  torch.Size([10, 10])\n"
     ]
    }
   ],
   "source": [
    "# Learn the effect of conv, pool and fc layers\n",
    "import torch\n",
    "import torch.nn as nn\n",
    "import torchvision\n",
    "import torchvision.transforms as transforms\n",
    "\n",
    "transform = transforms.Compose([\n",
    "    transforms.ToTensor(),\n",
    "    transforms.Normalize((0.5, 0.5, 0.5), (0.5, 0.5, 0.5))\n",
    "])\n",
    "\n",
    "train_data = torchvision.datasets.CIFAR10(root='data/CIFAR10', train=True,\n",
    "                                          download=True, transform=transform)\n",
    "train_loader = torch.utils.data.DataLoader(train_data, batch_size=10)\n",
    "\n",
    "# convolution layer parameters:\n",
    "# input_channel = 3, output_channel = 6, stride = 5\n",
    "test_convolution_layer = nn.Conv2d(3, 6, 5) \n",
    "\n",
    "# max-pooling layer parameters:\n",
    "# width = 2, height = 2\n",
    "test_pooling_layer = nn.MaxPool2d(2,2) \n",
    "\n",
    "# fully-connected layer parameters:\n",
    "# input_dim = 6*14*14, output = 10 classes\n",
    "test_fully_connected_layer = nn.Linear(6*14*14, 10)\n",
    "\n",
    "cnt = 0\n",
    "for image, label in train_loader:\n",
    "    \n",
    "    # test the effect of convolutional layer\n",
    "    print('the shape of the input of convolution layer is: ', image.shape)\n",
    "    convolution_output = test_convolution_layer(image)\n",
    "    print('the shape of the output of the convolution layer is: ', convolution_output.shape)\n",
    "    # out_width = (32-5)/1+1 = 28\n",
    "    \n",
    "    print('\\n\\n')\n",
    "    # test the effect of pooling layer\n",
    "    print('the shape of the input of the pooling layer is: ', convolution_output.shape)\n",
    "    pooling_layer_output = test_pooling_layer(convolution_output)\n",
    "    print('the shape of the output of the convolution layer is: ', pooling_layer_output.shape)\n",
    "    # out_width = 28/2 = 14\n",
    "    \n",
    "    # reshape each image into a vector\n",
    "    fully_connected_layer_input = pooling_layer_output.view(-1, 6*14*14)\n",
    "    print('the shape of reshape image is:', fully_connected_layer_input.shape)\n",
    "    \n",
    "    print('\\n\\n')\n",
    "    # test the effect of fully-connected layer\n",
    "    print('the shape of the input of the fully-connected layer is: ', fully_connected_layer_input.shape)\n",
    "    fully_connected_layer_output = test_fully_connected_layer(fully_connected_layer_input)\n",
    "    print('the shape of the output of the fully-connected layer is: ', fully_connected_layer_output.shape)\n",
    "    \n",
    "    break\n",
    "    "
   ]
  },
  {
   "cell_type": "code",
   "execution_count": 42,
   "metadata": {},
   "outputs": [
    {
     "name": "stdout",
     "output_type": "stream",
     "text": [
      "Files already downloaded and verified\n",
      "Training Done!!!!\n"
     ]
    }
   ],
   "source": [
    "# Training stage\n",
    "import torch\n",
    "import torch.nn as nn\n",
    "import torchvision\n",
    "import torchvision.transforms as transforms\n",
    "import torch.optim as optim\n",
    "\n",
    "# define the model structure\n",
    "class ModelStructure(nn.Module):\n",
    "    def __init__(self):\n",
    "        super(ModelStructure, self).__init__()\n",
    "        # define the convolution layer, pooling layer, activation function and fully-connected layers here\n",
    "        self.module1 = nn.Conv2d(3,6,5)\n",
    "        self.module2 = nn.MaxPool2d(2,2) \n",
    "        self.module3 = nn.Linear(6*14*14, 10)\n",
    "        \n",
    "        #define activation function here \n",
    "        self.activation_function = nn.ReLU()\n",
    "        \n",
    "        # TODO:\n",
    "        # you have to construct the modules of LeNet strudture here\n",
    "    \n",
    "    def forward(self, image):\n",
    "        # define the data flow of the model \n",
    "        out1 = self.module1(image)\n",
    "        out2 = self.module2(out1)\n",
    "        out3 = out2.view(-1, 6*14*14)\n",
    "        out4 = self.module3(out3)\n",
    "        return out4\n",
    "        \n",
    "        # TODO:\n",
    "        # you have to define the data flow of the LeNet strudture here\n",
    "    \n",
    "\n",
    "# define the training dataset of this experiments\n",
    "train_data = torchvision.datasets.CIFAR10(root='data/CIFAR10', train=True,\n",
    "                                          download=True, transform=transform)\n",
    "# TODO:\n",
    "# define the test set here by yourself\n",
    "\n",
    "train_loader = torch.utils.data.DataLoader(train_data, batch_size=10, shuffle=True)\n",
    "\n",
    "# TODO:\n",
    "# convert your test set into a dataloader\n",
    "\n",
    "model = ModelStructure()\n",
    "optimzer = optim.SGD(model.parameters(), lr=0.01)\n",
    "\n",
    "# TODO:\n",
    "# try different optimization methods, different learning rates\n",
    "\n",
    "loss_function = nn.CrossEntropyLoss()\n",
    "# TODO:\n",
    "# try different loss functions\n",
    "\n",
    "for image, label in train_loader:\n",
    "    outputs = model(image)\n",
    "    loss = loss_function(outputs, label)\n",
    "    # TODO:\n",
    "    # analyse the loss change during training with more epochs\n",
    "    optimzer.zero_grad()\n",
    "    loss.backward()\n",
    "    optimzer.step()\n",
    "\n",
    "# TODO :\n",
    "# train your model with more epochs\n",
    "# add evaluation method\n",
    "# pred_correctness = output.argmax(dim=1).eq(labels).sum().item()\n",
    "# conduct evaluation \n",
    "\n",
    "print('Training Done!!!!')\n",
    "\n"
   ]
  },
  {
   "cell_type": "code",
   "execution_count": null,
   "metadata": {},
   "outputs": [],
   "source": [
    "# Error analysis:\n",
    "pred = model(images)\n",
    "def inference(pred, target):\n",
    "    # TODO:\n",
    "    # analysis the error samples\n",
    "    pass"
   ]
  }
 ],
 "metadata": {
  "kernelspec": {
   "display_name": "Python 3",
   "language": "python",
   "name": "python3"
  },
  "language_info": {
   "codemirror_mode": {
    "name": "ipython",
    "version": 3
   },
   "file_extension": ".py",
   "mimetype": "text/x-python",
   "name": "python",
   "nbconvert_exporter": "python",
   "pygments_lexer": "ipython3",
   "version": "3.8.5"
  }
 },
 "nbformat": 4,
 "nbformat_minor": 4
}
